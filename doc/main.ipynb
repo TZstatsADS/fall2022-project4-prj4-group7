{
 "cells": [
  {
   "cell_type": "code",
   "execution_count": null,
   "id": "05448df0",
   "metadata": {},
   "outputs": [],
   "source": [
    "import numpy as np\n",
    "import pandas as pd\n",
    "import matplotlib.pyplot as plt\n",
    "import seaborn as sns\n",
    "from dython.nominal import associations\n",
    "from mlxtend.plotting import plot_decision_regions\n",
    "from itertools import chain\n",
    "import math\n",
    "from random import seed, shuffle\n",
    "from scipy.optimize import minimize \n",
    "from multiprocessing import Pool, Process, Queue\n",
    "from collections import defaultdict\n",
    "from copy import deepcopy\n",
    "import matplotlib.pyplot as plt \n",
    "from sklearn.metrics import accuracy_score as accuracy_score\n",
    "\n",
    "sns.set_style('darkgrid')\n",
    "%matplotlib inline\n",
    "\n",
    "import warnings\n",
    "import time\n",
    "warnings.filterwarnings(\"ignore\")"
   ]
  },
  {
   "cell_type": "markdown",
   "id": "3bcbc222",
   "metadata": {},
   "source": [
    "# Project 4 - A3 and A6"
   ]
  },
  {
   "cell_type": "code",
   "execution_count": null,
   "id": "69f7e9b3",
   "metadata": {},
   "outputs": [],
   "source": []
  }
 ],
 "metadata": {
  "kernelspec": {
   "display_name": "Python 3",
   "language": "python",
   "name": "python3"
  },
  "language_info": {
   "codemirror_mode": {
    "name": "ipython",
    "version": 3
   },
   "file_extension": ".py",
   "mimetype": "text/x-python",
   "name": "python",
   "nbconvert_exporter": "python",
   "pygments_lexer": "ipython3",
   "version": "3.8.8"
  }
 },
 "nbformat": 4,
 "nbformat_minor": 5
}
